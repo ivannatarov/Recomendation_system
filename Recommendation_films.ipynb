{
 "cells": [
  {
   "cell_type": "markdown",
   "metadata": {
    "id": "qz3cx4qQx-zX"
   },
   "source": [
    "### Рекомендательная система (онлайн кинотеар)."
   ]
  },
  {
   "cell_type": "code",
   "execution_count": null,
   "metadata": {},
   "outputs": [],
   "source": [
    "import pandas as pd\n",
    "from datetime import datetime"
   ]
  },
  {
   "cell_type": "code",
   "execution_count": null,
   "metadata": {
    "id": "xxqygk5m65-7"
   },
   "outputs": [],
   "source": [
    "# Создаем названия колонок для датафрейма films\n",
    "names = ['movie id', 'movie title', 'release date', 'release year', 'IMDb URL', 'unknown', 'Action',\n",
    "         'Adventure', 'Animation', 'Childrens', 'Comedy', 'Crime', 'Documentary', 'Drama', 'Fantasy',\n",
    "         'Film-Noir', 'Horror', 'Musical', 'Mystery', 'Romance', 'Sci-Fi', 'Thriller', 'War', 'Western']\n",
    "\n",
    "# Подгружаем файл с перечнем фильмов\n",
    "films = pd.read_csv('u.item.csv', sep='|', names=names, encoding='latin-1')\n",
    "films.head()"
   ]
  },
  {
   "cell_type": "code",
   "execution_count": null,
   "metadata": {
    "id": "ZPJgrYF37Xkw"
   },
   "outputs": [],
   "source": [
    "# Посмотрим типы данных\n",
    "films.info()"
   ]
  },
  {
   "cell_type": "code",
   "execution_count": null,
   "metadata": {
    "id": "ceyVJGqS8bn_"
   },
   "outputs": [],
   "source": [
    "# Год отформатируем в int чуть позднее\n",
    "# Создаем названия колонок для датафрейма ratings\n",
    "names_2 = ['user id', 'item id', 'rating', 'timestamp']\n",
    "ratings = pd.read_csv('u.data.csv',  sep='\\t', names=names_2)\n",
    "ratings.head()"
   ]
  },
  {
   "cell_type": "code",
   "execution_count": null,
   "metadata": {
    "id": "VFGA-D_A-76Y"
   },
   "outputs": [],
   "source": [
    "# Найдем пользователя, который поставил больше всего оценок\n",
    "ratings['user id'].value_counts().head()"
   ]
  },
  {
   "cell_type": "code",
   "execution_count": null,
   "metadata": {
    "id": "pNVMrCAxJwrK"
   },
   "outputs": [],
   "source": [
    "# Больше всего оценок поставил пользователь с id 405\n",
    "# Сформируем датафрейм по пользователю 405\n",
    "user_405 = ratings[ratings['user id'] == 405]\n",
    "user_405.head()"
   ]
  },
  {
   "cell_type": "code",
   "execution_count": null,
   "metadata": {
    "id": "mEqkTwGD_VP6"
   },
   "outputs": [],
   "source": [
    "# Проверим наш датафрейм на пропуски\n",
    "user_405.info()"
   ]
  },
  {
   "cell_type": "code",
   "execution_count": null,
   "metadata": {
    "id": "Qp0WmnoqADot"
   },
   "outputs": [],
   "source": [
    "# Добавим к нашему датафрейму по пользователю 405 жанры\n",
    "merge = user_405.merge(films, left_on='item id', right_on='movie id')\n",
    "merge.head()"
   ]
  },
  {
   "cell_type": "code",
   "execution_count": null,
   "metadata": {},
   "outputs": [],
   "source": [
    "# В дальнейшем нам потребуется год выпуска фильма, поэтому приведем колонку release date к формату даты, \n",
    "# затем на основании данной колонки заполним колонку release year. она как раз у нас пустая\n",
    "merge['release date'] = pd.to_datetime(merge['release date'],  format='%d-%b-%Y')\n",
    "merge['release year'] = merge['release date'].dt.year\n",
    "merge.head()"
   ]
  },
  {
   "cell_type": "code",
   "execution_count": null,
   "metadata": {},
   "outputs": [],
   "source": [
    "merge.info()"
   ]
  },
  {
   "cell_type": "code",
   "execution_count": null,
   "metadata": {
    "id": "3RMPNUE4AzKC"
   },
   "outputs": [],
   "source": [
    "# На данном этапе сформируем датафрейм с общим количеством оценок от всех пользователей на фильм \n",
    "# и суммарной оценкой от всех пользователей.\n",
    "ratings_2 = ratings.groupby('item id').sum()[['rating']].reset_index()\n",
    "ratings_3 = ratings.groupby('item id').count()[['rating']].reset_index()\n",
    "merge_2 = ratings_2 .merge(ratings_3, left_on='item id', right_on='item id')\n",
    "merge_2.columns = ['movie_id', 'sum_rating', 'count_rating']\n",
    "merge_2.sort_values('count_rating', ascending=False)"
   ]
  },
  {
   "cell_type": "code",
   "execution_count": null,
   "metadata": {
    "id": "gZPBUTGWBn0s"
   },
   "outputs": [],
   "source": [
    "# Соединим датафреймы\n",
    "merge_3 = merge.merge(merge_2, left_on='movie id', right_on='movie_id')\n",
    "merge_3.head()"
   ]
  },
  {
   "cell_type": "code",
   "execution_count": null,
   "metadata": {
    "id": "mjhlqQX0BuZi"
   },
   "outputs": [],
   "source": [
    "# Выведем названия колонок для удобства\n",
    "merge_3.columns"
   ]
  },
  {
   "cell_type": "code",
   "execution_count": null,
   "metadata": {
    "id": "QfWu6MwXB42x"
   },
   "outputs": [],
   "source": [
    "# Сформируем итоговый датафрейм для нашей рекомендательной модели оставив необходиимые признаки\n",
    "final_df = merge_3[['release year', 'unknown', 'Action',\n",
    "       'Adventure', 'Animation', 'Childrens', 'Comedy', 'Crime', 'Documentary',\n",
    "       'Drama', 'Fantasy', 'Film-Noir', 'Horror', 'Musical', 'Mystery',\n",
    "       'Romance', 'Sci-Fi', 'Thriller', 'War', 'Western', \n",
    "        'count_rating',  'sum_rating', 'rating']]\n",
    "\n",
    "final_df.head()"
   ]
  },
  {
   "cell_type": "code",
   "execution_count": null,
   "metadata": {
    "id": "xdFq4i59LZK_"
   },
   "outputs": [],
   "source": [
    "# Начинаем строить модель\n",
    "# Импортируем нужные нам библиотеки\n",
    "from sklearn.model_selection import train_test_split\n",
    "from sklearn.linear_model import LinearRegression\n",
    "from sklearn.preprocessing import StandardScaler\n",
    "from sklearn.metrics import mean_squared_error, mean_absolute_error"
   ]
  },
  {
   "cell_type": "code",
   "execution_count": null,
   "metadata": {
    "colab": {
     "base_uri": "https://localhost:8080/"
    },
    "id": "zwTZdgVQMt4T",
    "outputId": "7cfd2d1b-d680-4609-c820-ee997d6f16ed"
   },
   "outputs": [],
   "source": [
    "final_df.columns"
   ]
  },
  {
   "cell_type": "code",
   "execution_count": null,
   "metadata": {
    "id": "NUbcPxpFNOea"
   },
   "outputs": [],
   "source": [
    "# Отделим колонки с признаками от колонки с целевой переменной (которую прогнозируем)\n",
    "# это нужно для корректной работы sklearn"
   ]
  },
  {
   "cell_type": "code",
   "execution_count": null,
   "metadata": {
    "id": "JdxwSZ7tMi5o"
   },
   "outputs": [],
   "source": [
    "X = final_df[['release year', 'unknown', 'Action', 'Adventure', 'Animation', \n",
    "              'Childrens', 'Comedy', 'Crime', 'Documentary', 'Drama', 'Fantasy',\n",
    "              'Film-Noir', 'Horror', 'Musical', 'Mystery', 'Romance', 'Sci-Fi', \n",
    "              'Thriller', 'War', 'Western', 'count_rating', 'sum_rating']]\n",
    "\n",
    "y = final_df['rating']"
   ]
  },
  {
   "cell_type": "code",
   "execution_count": null,
   "metadata": {
    "colab": {
     "base_uri": "https://localhost:8080/",
     "height": 438
    },
    "id": "8mpYi4MdM9zP",
    "outputId": "80073a46-e1f5-427e-e8a9-5a387bb37cb8"
   },
   "outputs": [],
   "source": [
    "X"
   ]
  },
  {
   "cell_type": "code",
   "execution_count": null,
   "metadata": {
    "colab": {
     "base_uri": "https://localhost:8080/"
    },
    "id": "LX_mOd4ENCNP",
    "outputId": "f1cafae9-5120-4c7c-8b90-41744804217a"
   },
   "outputs": [],
   "source": [
    "y"
   ]
  },
  {
   "cell_type": "code",
   "execution_count": null,
   "metadata": {
    "id": "dzEgCnOeNGW1"
   },
   "outputs": [],
   "source": [
    "# Разделим данные на часть для обучения и часть для проверки\n",
    "X_train, X_test, y_train, y_test = train_test_split(X, y, test_size=0.2)"
   ]
  },
  {
   "cell_type": "code",
   "execution_count": null,
   "metadata": {
    "colab": {
     "base_uri": "https://localhost:8080/",
     "height": 438
    },
    "id": "Xac6rrbONUQF",
    "outputId": "36e9b959-7f46-43a8-b848-43488b820a1c"
   },
   "outputs": [],
   "source": [
    "X_train"
   ]
  },
  {
   "cell_type": "code",
   "execution_count": null,
   "metadata": {
    "colab": {
     "base_uri": "https://localhost:8080/",
     "height": 438
    },
    "id": "K458sKmSNaDZ",
    "outputId": "6c48497a-3355-4b2f-857c-c43acd5d2126"
   },
   "outputs": [],
   "source": [
    "X_test"
   ]
  },
  {
   "cell_type": "code",
   "execution_count": null,
   "metadata": {
    "id": "zTfFXuDgt6sV"
   },
   "outputs": [],
   "source": [
    "# Приведем данные к одному масштабу\n",
    "sc = StandardScaler()"
   ]
  },
  {
   "cell_type": "code",
   "execution_count": null,
   "metadata": {
    "id": "-ZkanToTuF6P"
   },
   "outputs": [],
   "source": [
    "X_train = sc.fit_transform(X_train)\n",
    "X_test = sc.transform(X_test)"
   ]
  },
  {
   "cell_type": "code",
   "execution_count": null,
   "metadata": {
    "id": "QJDRrYUSNfgy"
   },
   "outputs": [],
   "source": [
    "# Делаем модель\n",
    "lr = LinearRegression()\n",
    "lr.fit(X_train, y_train)\n",
    "lr.coef_"
   ]
  },
  {
   "cell_type": "code",
   "execution_count": null,
   "metadata": {
    "id": "a0BEmX0zNx9y"
   },
   "outputs": [],
   "source": [
    "# Оценим работу модели"
   ]
  },
  {
   "cell_type": "code",
   "execution_count": null,
   "metadata": {
    "id": "bJqg__CdOBnZ"
   },
   "outputs": [],
   "source": [
    "# Оценим модель при помощи MSE"
   ]
  },
  {
   "cell_type": "code",
   "execution_count": null,
   "metadata": {
    "colab": {
     "base_uri": "https://localhost:8080/"
    },
    "id": "k7Tn2O3BOVuj",
    "outputId": "65cd693c-8267-47c7-d43a-bd298f5dc9ea"
   },
   "outputs": [],
   "source": [
    "mean_squared_error(y_test, lr.predict(X_test))"
   ]
  },
  {
   "cell_type": "code",
   "execution_count": null,
   "metadata": {
    "colab": {
     "base_uri": "https://localhost:8080/"
    },
    "id": "t23shsopOawi",
    "outputId": "b366e5ee-f6aa-4a02-ea06-8ed523328b17"
   },
   "outputs": [],
   "source": [
    "mean_squared_error(y_train, lr.predict(X_train))"
   ]
  },
  {
   "cell_type": "code",
   "execution_count": null,
   "metadata": {
    "id": "EA4hms8VR1Dv"
   },
   "outputs": [],
   "source": [
    "# Оценим модель при помощи MАE"
   ]
  },
  {
   "cell_type": "code",
   "execution_count": null,
   "metadata": {
    "colab": {
     "base_uri": "https://localhost:8080/"
    },
    "id": "4R7zjj-j1akJ",
    "outputId": "024795b3-d94b-4376-dc0f-a12b3e63271b"
   },
   "outputs": [],
   "source": [
    "mean_absolute_error(y_test, lr.predict(X_test))"
   ]
  },
  {
   "cell_type": "code",
   "execution_count": null,
   "metadata": {
    "colab": {
     "base_uri": "https://localhost:8080/"
    },
    "id": "aY6v8csxTrw-",
    "outputId": "a104457d-bb13-4e78-ef8b-03eb0e27728f"
   },
   "outputs": [],
   "source": [
    "mean_absolute_error(y_train, lr.predict(X_train))"
   ]
  }
 ],
 "metadata": {
  "colab": {
   "collapsed_sections": [],
   "name": "Часть 2.1. Recommendation films part python.ipynb",
   "provenance": []
  },
  "hide_input": false,
  "kernelspec": {
   "display_name": "Python 3",
   "language": "python",
   "name": "python3"
  },
  "language_info": {
   "codemirror_mode": {
    "name": "ipython",
    "version": 3
   },
   "file_extension": ".py",
   "mimetype": "text/x-python",
   "name": "python",
   "nbconvert_exporter": "python",
   "pygments_lexer": "ipython3",
   "version": "3.8.3"
  },
  "varInspector": {
   "cols": {
    "lenName": 16,
    "lenType": 16,
    "lenVar": 40
   },
   "kernels_config": {
    "python": {
     "delete_cmd_postfix": "",
     "delete_cmd_prefix": "del ",
     "library": "var_list.py",
     "varRefreshCmd": "print(var_dic_list())"
    },
    "r": {
     "delete_cmd_postfix": ") ",
     "delete_cmd_prefix": "rm(",
     "library": "var_list.r",
     "varRefreshCmd": "cat(var_dic_list()) "
    }
   },
   "types_to_exclude": [
    "module",
    "function",
    "builtin_function_or_method",
    "instance",
    "_Feature"
   ],
   "window_display": false
  }
 },
 "nbformat": 4,
 "nbformat_minor": 1
}
